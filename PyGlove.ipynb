{
 "cells": [
  {
   "cell_type": "code",
   "execution_count": 1,
   "metadata": {},
   "outputs": [],
   "source": [
    "from random import choice\n",
    "import numpy as np\n",
    "import tensorflow as tf\n",
    "from tensorflow.keras import datasets, layers, models"
   ]
  },
  {
   "cell_type": "code",
   "execution_count": 5,
   "metadata": {},
   "outputs": [],
   "source": [
    "# Search space saves all the possibe choices\n",
    "# OBJECTS_PARENTS help us identify which arguments belongs to which object\n",
    "SEARCH_SPACE = []\n",
    "OBJECTS_PARENTS = {}"
   ]
  },
  {
   "cell_type": "code",
   "execution_count": 6,
   "metadata": {},
   "outputs": [],
   "source": [
    "# Abstraction of the normal objects that can save its arguments in a list\n",
    "# The symbolic object help to recreate the original object with different arguments\n",
    "class symbolic_object:\n",
    "    def __init__(self):\n",
    "        self.args = []\n",
    "        self.name = None\n",
    "        self.activation = None\n",
    "        \n",
    "    # This method save the relationship between the object (parent) and the arguments\n",
    "    def __call__(self, *args, activation = None):\n",
    "        self.args = args\n",
    "            \n",
    "        for i in range(len(self.args)):\n",
    "            OBJECTS_PARENTS[id(self.args[i])]= id(self)\n",
    "            \n",
    "        if(activation is not None):\n",
    "            self.activation = activation\n",
    "            OBJECTS_PARENTS[id(activation)] = id(self)\n",
    "            \n",
    "        return self\n",
    "    \n",
    "    def set_name(self, name):\n",
    "        self.name = name\n",
    "        self.__name__ = 'symbolic'\n",
    "        \n",
    "    def read_name(self):\n",
    "        print(self.name)\n",
    "        \n",
    "    def get_args(self):\n",
    "        arg_list = []\n",
    "        for i in range(len(self.args)):\n",
    "            arg_list.append(self.args[i])\n",
    "        \n",
    "        if(self.activation is not None):\n",
    "            arg_list.append(self.activation)\n",
    "        return arg_list"
   ]
  },
  {
   "cell_type": "code",
   "execution_count": 3,
   "metadata": {},
   "outputs": [],
   "source": [
    "# Takes a class as an agrument and returns a symbolic object \n",
    "def symbolize(real_object):\n",
    "    name = real_object.__name__   \n",
    "    sy_obj = symbolic_object()\n",
    "    sy_obj.set_name(name)\n",
    "    return sy_obj"
   ]
  },
  {
   "cell_type": "code",
   "execution_count": 4,
   "metadata": {},
   "outputs": [],
   "source": [
    "# takes a class name, the wanted agruments and the number of arguments and returns an executable object\n",
    "# Helpful method for the materlize method\n",
    "def create_object_from_symbols(class_name, arguments, args_num):\n",
    "    temp_dict = {}\n",
    "    if (args_num == 0):\n",
    "        mycode = \"temp_dict['var']\"+ ' = ' + class_name+'()'\n",
    "        \n",
    "    elif (args_num == 1):\n",
    "        arguments = str(arguments[0])\n",
    "        mycode = \"temp_dict['var']\"+ ' = ' + class_name+'('+arguments+')'\n",
    "    \n",
    "    else:\n",
    "        args = str(arguments[0])\n",
    "        for i in range(1, args_num):\n",
    "            arguments[i] = str(arguments[i])\n",
    "            args += ', ' +arguments[i]\n",
    "        mycode = \"temp_dict['var']\"+ ' = ' + class_name+'('+args+')'\n",
    "    exec(mycode)\n",
    "    return temp_dict['var']"
   ]
  },
  {
   "cell_type": "code",
   "execution_count": 7,
   "metadata": {},
   "outputs": [],
   "source": [
    "# totally random \n",
    "# returns indices of the choices\n",
    "def random_search():\n",
    "    choices = [None] * len(SEARCH_SPACE)\n",
    "    number_of_choices = len(SEARCH_SPACE)\n",
    "    for i in range(number_of_choices):\n",
    "        indices = range(len(SEARCH_SPACE[i]))\n",
    "        choices[i] = choice(indices)\n",
    "    return choices"
   ]
  },
  {
   "cell_type": "code",
   "execution_count": null,
   "metadata": {},
   "outputs": [],
   "source": []
  }
 ],
 "metadata": {
  "kernelspec": {
   "display_name": "Python 3",
   "language": "python",
   "name": "python3"
  },
  "language_info": {
   "codemirror_mode": {
    "name": "ipython",
    "version": 3
   },
   "file_extension": ".py",
   "mimetype": "text/x-python",
   "name": "python",
   "nbconvert_exporter": "python",
   "pygments_lexer": "ipython3",
   "version": "3.8.5"
  }
 },
 "nbformat": 4,
 "nbformat_minor": 4
}
