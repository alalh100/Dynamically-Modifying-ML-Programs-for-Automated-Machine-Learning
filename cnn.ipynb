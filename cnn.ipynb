{
 "cells": [
  {
   "cell_type": "markdown",
   "metadata": {
    "id": "x4HI2mpwlrcn"
   },
   "source": [
    "##### Copyright 2019 The TensorFlow Authors."
   ]
  },
  {
   "cell_type": "markdown",
   "metadata": {
    "id": "DSPCom-KmApV"
   },
   "source": [
    "# Convolutional Neural Network (CNN)"
   ]
  },
  {
   "cell_type": "markdown",
   "metadata": {
    "id": "klAltGp8ycek"
   },
   "source": [
    "<table class=\"tfo-notebook-buttons\" align=\"left\">\n",
    "  <td>\n",
    "    <a target=\"_blank\" href=\"https://www.tensorflow.org/tutorials/images/cnn\">\n",
    "    <img src=\"https://www.tensorflow.org/images/tf_logo_32px.png\" />\n",
    "    View on TensorFlow.org</a>\n",
    "  </td>\n",
    "  <td>\n",
    "    <a target=\"_blank\" href=\"https://colab.research.google.com/github/tensorflow/docs/blob/master/site/en/tutorials/images/cnn.ipynb\">\n",
    "    <img src=\"https://www.tensorflow.org/images/colab_logo_32px.png\" />\n",
    "    Run in Google Colab</a>\n",
    "  </td>\n",
    "  <td>\n",
    "    <a target=\"_blank\" href=\"https://github.com/tensorflow/docs/blob/master/site/en/tutorials/images/cnn.ipynb\">\n",
    "    <img src=\"https://www.tensorflow.org/images/GitHub-Mark-32px.png\" />\n",
    "    View source on GitHub</a>\n",
    "  </td>\n",
    "  <td>\n",
    "    <a href=\"https://storage.googleapis.com/tensorflow_docs/docs/site/en/tutorials/images/cnn.ipynb\"><img src=\"https://www.tensorflow.org/images/download_logo_32px.png\" />Download notebook</a>\n",
    "  </td>\n",
    "</table>"
   ]
  },
  {
   "cell_type": "markdown",
   "metadata": {
    "id": "m7KBpffWzlxH"
   },
   "source": [
    "### Import TensorFlow"
   ]
  },
  {
   "cell_type": "code",
   "execution_count": null,
   "metadata": {
    "execution": {
     "iopub.execute_input": "2021-06-16T19:23:05.739889Z",
     "iopub.status.busy": "2021-06-16T19:23:05.739316Z",
     "iopub.status.idle": "2021-06-16T19:23:07.333947Z",
     "shell.execute_reply": "2021-06-16T19:23:07.333420Z"
    },
    "id": "iAve6DCL4JH4"
   },
   "outputs": [],
   "source": [
    "import tensorflow as tf\n",
    "\n",
    "from tensorflow.keras import datasets, layers, models\n",
    "import matplotlib.pyplot as plt\n",
    "\n",
    "# My implementation of PyGlove \n",
    "import PyGlove as pg"
   ]
  },
  {
   "cell_type": "markdown",
   "metadata": {
    "id": "jRFxccghyMVo"
   },
   "source": [
    "### Download and prepare the CIFAR10 dataset\n",
    "\n",
    "\n",
    "The CIFAR10 dataset contains 60,000 color images in 10 classes, with 6,000 images in each class. The dataset is divided into 50,000 training images and 10,000 testing images. The classes are mutually exclusive and there is no overlap between them."
   ]
  },
  {
   "cell_type": "code",
   "execution_count": null,
   "metadata": {
    "execution": {
     "iopub.execute_input": "2021-06-16T19:23:07.338995Z",
     "iopub.status.busy": "2021-06-16T19:23:07.338366Z",
     "iopub.status.idle": "2021-06-16T19:23:21.628276Z",
     "shell.execute_reply": "2021-06-16T19:23:21.627759Z"
    },
    "id": "JWoEqyMuXFF4"
   },
   "outputs": [],
   "source": [
    "(train_images, train_labels), (test_images, test_labels) = datasets.cifar10.load_data()\n",
    "\n",
    "# consider just the first 1000 images to save time\n",
    "train_images, train_labels  = train_images[:1000], train_labels[:1000]\n",
    "test_images, test_labels =  test_images[:1000], test_labels[:1000]\n",
    "\n",
    "# Normalize pixel values to be between 0 and 1\n",
    "train_images, test_images = train_images / 255.0, test_images / 255.0"
   ]
  },
  {
   "cell_type": "markdown",
   "metadata": {
    "id": "7wArwCTJJlUa"
   },
   "source": [
    "### Verify the data\n",
    "\n",
    "To verify that the dataset looks correct, let's plot the first 25 images from the training set and display the class name below each image:\n"
   ]
  },
  {
   "cell_type": "code",
   "execution_count": null,
   "metadata": {
    "execution": {
     "iopub.execute_input": "2021-06-16T19:23:21.646002Z",
     "iopub.status.busy": "2021-06-16T19:23:21.634464Z",
     "iopub.status.idle": "2021-06-16T19:23:22.508372Z",
     "shell.execute_reply": "2021-06-16T19:23:22.508750Z"
    },
    "id": "K3PAELE2eSU9"
   },
   "outputs": [],
   "source": [
    "class_names = ['airplane', 'automobile', 'bird', 'cat', 'deer',\n",
    "               'dog', 'frog', 'horse', 'ship', 'truck']\n",
    "\n",
    "plt.figure(figsize=(10,10))\n",
    "for i in range(25):\n",
    "    plt.subplot(5,5,i+1)\n",
    "    plt.xticks([])\n",
    "    plt.yticks([])\n",
    "    plt.grid(False)\n",
    "    plt.imshow(train_images[i])\n",
    "    # The CIFAR labels happen to be arrays, \n",
    "    # which is why you need the extra index\n",
    "    plt.xlabel(class_names[train_labels[i][0]])\n",
    "plt.show()"
   ]
  },
  {
   "cell_type": "markdown",
   "metadata": {},
   "source": [
    "## Symbolize TensorFlow layers"
   ]
  },
  {
   "cell_type": "code",
   "execution_count": null,
   "metadata": {},
   "outputs": [],
   "source": [
    "Conv2D = pg.symbolize(layers.Conv2D)\n",
    "Dense = pg.symbolize(layers.Dense)\n",
    "MaxPooling2D = pg.symbolize(layers.MaxPooling2D)\n",
    "Sequential = pg.symbolize(models.Sequential)"
   ]
  },
  {
   "cell_type": "markdown",
   "metadata": {
    "id": "Oewp-wYg31t9"
   },
   "source": [
    "## Create the search space"
   ]
  },
  {
   "cell_type": "code",
   "execution_count": null,
   "metadata": {},
   "outputs": [],
   "source": [
    "# create a search space with three different models\n",
    "# each model family has its own layer configurations\n",
    "def model_builder():\n",
    "    return Sequential(pg.oneof([\n",
    "    # Model family 1: only dense layers .\n",
    "        [\n",
    "            layers.Flatten() ,\n",
    "            Dense(pg.oneof([64, 128]), pg.oneof(['relu', 'sigmoid']))\n",
    "        ] ,\n",
    "    # Model family 2: conv net.\n",
    "        [\n",
    "            layers.Lambda(lambda x: tf.reshape(x, (-1, 32, 32, 3))) ,\n",
    "            Conv2D(pg.oneof([64, 128]), pg.oneof([(3, 3), (5, 5)]) , activation = pg.oneof(['relu', 'sigmoid']))\n",
    "        ] ,\n",
    "    # Model family 3: conv net.\n",
    "        [\n",
    "            layers.Conv2D(32, (3, 3), activation='relu', input_shape=(32, 32, 3)), \n",
    "            layers.MaxPooling2D((2, 2)), \n",
    "            layers.Conv2D(64, (3, 3), activation='relu'), \n",
    "            MaxPooling2D(pg.oneof([(2, 2), (3,3)])),\n",
    "            layers.Conv2D(64, (3, 3), activation='relu')\n",
    "        ]\n",
    "    \n",
    "        ]))"
   ]
  },
  {
   "cell_type": "code",
   "execution_count": null,
   "metadata": {},
   "outputs": [],
   "source": [
    "def train_and_evaluate(model , num_epochs =10):\n",
    "\n",
    "    model.compile(optimizer='adam',\n",
    "              loss=tf.keras.losses.SparseCategoricalCrossentropy(from_logits=True),\n",
    "              metrics=['accuracy'])\n",
    "\n",
    "    model.fit(train_images, train_labels, epochs= num_epochs, validation_data=(test_images, test_labels))\n",
    "    \n",
    "    test_loss, test_acc = model.evaluate(test_images,  test_labels, verbose=2)\n",
    "    \n",
    "    return test_acc"
   ]
  },
  {
   "cell_type": "markdown",
   "metadata": {
    "id": "jKgyC5K_4O0d"
   },
   "source": [
    "### Train the models"
   ]
  },
  {
   "cell_type": "code",
   "execution_count": null,
   "metadata": {
    "execution": {
     "iopub.execute_input": "2021-06-16T19:24:17.340860Z",
     "iopub.status.busy": "2021-06-16T19:24:17.340298Z",
     "iopub.status.idle": "2021-06-16T19:24:17.342237Z",
     "shell.execute_reply": "2021-06-16T19:24:17.342607Z"
    },
    "id": "0LvwaKhtUdOo",
    "scrolled": true
   },
   "outputs": [],
   "source": [
    "results = []\n",
    "#sampling just three models to save time\n",
    "for i , model in enumerate(pg.sample(model_builder, pg.random_search, max_trails= 3)):\n",
    "    # add the last dense layers to all of the sampled models\n",
    "    model.add(layers.Flatten())\n",
    "    model.add(layers.Dense(64, activation='relu'))\n",
    "    model.add(layers.Dense(10))\n",
    "    \n",
    "    test_acc = train_and_evaluate(model)\n",
    "    results.append((i, model , test_acc))"
   ]
  },
  {
   "cell_type": "markdown",
   "metadata": {},
   "source": [
    "### Print the models and select the best model"
   ]
  },
  {
   "cell_type": "code",
   "execution_count": null,
   "metadata": {},
   "outputs": [],
   "source": [
    "max_accuracy = 0\n",
    "best_model_index = 0\n",
    "for i in range(len(results)):\n",
    "    #printing all models    \n",
    "    print(\"Model \", i, \", Accuracy:\", results[i][2])\n",
    "    model = results[i][1]\n",
    "    print(model.summary())\n",
    "    print(\"\\n\")\n",
    "    \n",
    "    # selecting the best model\n",
    "    temp_accu = results[i][2]\n",
    "    if(temp_accu > max_accuracy):\n",
    "        max_accuracy = temp_accu\n",
    "        best_model_index = i\n",
    "        \n",
    "print(\"Best model is: %s with %s accuracy\" %( best_model_index ,  max_accuracy))"
   ]
  },
  {
   "cell_type": "code",
   "execution_count": null,
   "metadata": {},
   "outputs": [],
   "source": []
  }
 ],
 "metadata": {
  "accelerator": "GPU",
  "colab": {
   "collapsed_sections": [],
   "name": "cnn.ipynb",
   "toc_visible": true
  },
  "kernelspec": {
   "display_name": "Python 3",
   "language": "python",
   "name": "python3"
  },
  "language_info": {
   "codemirror_mode": {
    "name": "ipython",
    "version": 3
   },
   "file_extension": ".py",
   "mimetype": "text/x-python",
   "name": "python",
   "nbconvert_exporter": "python",
   "pygments_lexer": "ipython3",
   "version": "3.8.5"
  }
 },
 "nbformat": 4,
 "nbformat_minor": 1
}
