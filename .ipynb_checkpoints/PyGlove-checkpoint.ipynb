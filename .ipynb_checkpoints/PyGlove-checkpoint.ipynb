{
 "cells": [
  {
   "cell_type": "code",
   "execution_count": 1,
   "metadata": {},
   "outputs": [],
   "source": [
    "from random import choice\n",
    "import numpy as np\n",
    "import tensorflow as tf\n",
    "from tensorflow.keras import datasets, layers, models"
   ]
  },
  {
   "cell_type": "code",
   "execution_count": null,
   "metadata": {},
   "outputs": [],
   "source": [
    "# Abstraction of t\n",
    "class symbolic_object:\n",
    "    def __init__(self):\n",
    "        self.args = []\n",
    "        self.name = None\n",
    "        self.activation = None\n",
    "        \n",
    "    def set_name(self, name):\n",
    "        self.name = name\n",
    "        self.__name__ = 'symbolic'\n",
    "        \n",
    "    def read_name(self):\n",
    "        print(self.name)\n",
    "        \n",
    "    def get_args(self):\n",
    "        arg_list = []\n",
    "        for i in range(len(self.args)):\n",
    "            arg_list.append(self.args[i])\n",
    "        \n",
    "        if(self.activation is not None):\n",
    "            arg_list.append(self.activation)\n",
    "        return arg_list"
   ]
  },
  {
   "cell_type": "code",
   "execution_count": null,
   "metadata": {},
   "outputs": [],
   "source": [
    "# returns a symbolic object \n",
    "def symbolize(real_object):\n",
    "    name = real_object.__name__   \n",
    "    sy_obj = symbolic_object()\n",
    "    sy_obj.set_name(name)\n",
    "    return sy_obj"
   ]
  },
  {
   "cell_type": "code",
   "execution_count": null,
   "metadata": {},
   "outputs": [],
   "source": []
  }
 ],
 "metadata": {
  "kernelspec": {
   "display_name": "Python 3",
   "language": "python",
   "name": "python3"
  },
  "language_info": {
   "codemirror_mode": {
    "name": "ipython",
    "version": 3
   },
   "file_extension": ".py",
   "mimetype": "text/x-python",
   "name": "python",
   "nbconvert_exporter": "python",
   "pygments_lexer": "ipython3",
   "version": "3.8.5"
  }
 },
 "nbformat": 4,
 "nbformat_minor": 4
}
