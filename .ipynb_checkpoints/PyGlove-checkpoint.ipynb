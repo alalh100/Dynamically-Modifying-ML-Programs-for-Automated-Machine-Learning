{
 "cells": [
  {
   "cell_type": "code",
   "execution_count": 1,
   "metadata": {},
   "outputs": [],
   "source": [
    "from random import choice\n",
    "import numpy as np\n",
    "import tensorflow as tf\n",
    "from tensorflow.keras import datasets, layers, models"
   ]
  },
  {
   "cell_type": "code",
   "execution_count": 5,
   "metadata": {},
   "outputs": [],
   "source": [
    "# Search space saves all the possibe choices\n",
    "# OBJECTS_PARENTS help us identify which arguments belongs to which object\n",
    "SEARCH_SPACE = []\n",
    "OBJECTS_PARENTS = {}"
   ]
  },
  {
   "cell_type": "code",
   "execution_count": null,
   "metadata": {},
   "outputs": [],
   "source": [
    "# Add the choices to the search space\n",
    "def oneof(candidates, hints = None):\n",
    "    SEARCH_SPACE.append(candidates)\n",
    "    return candidates"
   ]
  },
  {
   "cell_type": "code",
   "execution_count": 6,
   "metadata": {},
   "outputs": [],
   "source": [
    "# Abstraction of the normal objects that can save its arguments in a list\n",
    "# The symbolic object help to recreate the original object with different arguments\n",
    "class symbolic_object:\n",
    "    def __init__(self):\n",
    "        self.args = []\n",
    "        self.name = None\n",
    "        self.activation = None\n",
    "        \n",
    "    # This method save the relationship between the object (parent) and the arguments\n",
    "    def __call__(self, *args, activation = None):\n",
    "        self.args = args\n",
    "            \n",
    "        for i in range(len(self.args)):\n",
    "            OBJECTS_PARENTS[id(self.args[i])]= id(self)\n",
    "            \n",
    "        if(activation is not None):\n",
    "            self.activation = activation\n",
    "            OBJECTS_PARENTS[id(activation)] = id(self)\n",
    "            \n",
    "        return self\n",
    "    \n",
    "    def set_name(self, name):\n",
    "        self.name = name\n",
    "        self.__name__ = 'symbolic'\n",
    "        \n",
    "    def read_name(self):\n",
    "        print(self.name)\n",
    "        \n",
    "    def get_args(self):\n",
    "        arg_list = []\n",
    "        for i in range(len(self.args)):\n",
    "            arg_list.append(self.args[i])\n",
    "        \n",
    "        if(self.activation is not None):\n",
    "            arg_list.append(self.activation)\n",
    "        return arg_list"
   ]
  },
  {
   "cell_type": "code",
   "execution_count": 3,
   "metadata": {},
   "outputs": [],
   "source": [
    "# Takes a class as an agrument and returns a symbolic object \n",
    "def symbolize(real_object):\n",
    "    name = real_object.__name__   \n",
    "    sy_obj = symbolic_object()\n",
    "    sy_obj.set_name(name)\n",
    "    return sy_obj"
   ]
  },
  {
   "cell_type": "code",
   "execution_count": 4,
   "metadata": {},
   "outputs": [],
   "source": [
    "# takes a class name, the wanted agruments and the number of arguments and returns an executable object\n",
    "# Helpful method for the materlize method\n",
    "def create_object_from_symbols(class_name, arguments, args_num):\n",
    "    temp_dict = {}\n",
    "    if (args_num == 0):\n",
    "        mycode = \"temp_dict['var']\"+ ' = ' + class_name+'()'\n",
    "        \n",
    "    elif (args_num == 1):\n",
    "        arguments = str(arguments[0])\n",
    "        mycode = \"temp_dict['var']\"+ ' = ' + class_name+'('+arguments+')'\n",
    "    \n",
    "    else:\n",
    "        args = str(arguments[0])\n",
    "        for i in range(1, args_num):\n",
    "            arguments[i] = str(arguments[i])\n",
    "            args += ', ' +arguments[i]\n",
    "        mycode = \"temp_dict['var']\"+ ' = ' + class_name+'('+args+')'\n",
    "    exec(mycode)\n",
    "    return temp_dict['var']"
   ]
  },
  {
   "cell_type": "code",
   "execution_count": 7,
   "metadata": {},
   "outputs": [],
   "source": [
    "# totally random \n",
    "# returns indices of the choices\n",
    "def random_search():\n",
    "    choices = [None] * len(SEARCH_SPACE)\n",
    "    number_of_choices = len(SEARCH_SPACE)\n",
    "    for i in range(number_of_choices):\n",
    "        indices = range(len(SEARCH_SPACE[i]))\n",
    "        choices[i] = choice(indices)\n",
    "    return choices"
   ]
  },
  {
   "cell_type": "code",
   "execution_count": 8,
   "metadata": {},
   "outputs": [],
   "source": [
    "# the search space does not have a complex constuction. Its just a collection of choices.\n",
    "# takes the choices of the search algorithm and return the index of the selected model and how many layers it has.\n",
    "# helpful for the materlize method\n",
    "def organized_choices(choices):\n",
    "\n",
    "    number_of_choices = len(choices)-1\n",
    "    \n",
    "    #last choice ist the model choice\n",
    "    num_of_model_chosen = choices[number_of_choices]\n",
    "        \n",
    "    # how many layers for this model\n",
    "    num_layers = len(SEARCH_SPACE[number_of_choices][num_of_model_chosen])\n",
    "    \n",
    "    # number of model\n",
    "    num_models = len(SEARCH_SPACE[number_of_choices])  \n",
    "    \n",
    "    return num_of_model_chosen, num_layers"
   ]
  },
  {
   "cell_type": "code",
   "execution_count": 9,
   "metadata": {},
   "outputs": [],
   "source": [
    "# from an abstract child program to concrete child program based on the search space\n",
    "# returns an executable model out of the choices of the search algorithm\n",
    "def materialize(choices):\n",
    "    number_of_choices = len(SEARCH_SPACE)-1\n",
    "    \n",
    "    num_of_model_chosen, num_layers = organized_choices(choices)\n",
    "\n",
    "    # get the layers for this model from the search space    \n",
    "    args = []\n",
    "    old_args = SEARCH_SPACE[number_of_choices][choices[number_of_choices]]\n",
    "    \n",
    "    for i in range(num_layers):\n",
    "        #recreate the layers\n",
    "        if('symbolic' in str(type(old_args[i]))):\n",
    "            symbolic_obj = old_args[i]\n",
    "            arg_list = symbolic_obj.get_args()\n",
    "            selected_args = []\n",
    "            # get the choice for this list\n",
    "            for i in range(len(SEARCH_SPACE)):\n",
    "                if(id(SEARCH_SPACE[i]) in OBJECTS_PARENTS):\n",
    "                    if(OBJECTS_PARENTS[id(SEARCH_SPACE[i])] == id(symbolic_obj)):\n",
    "                        if(isinstance(SEARCH_SPACE[i][choices[i]], str)):\n",
    "                            activation = 'activation = \"' + SEARCH_SPACE[i][choices[i]] + '\" '\n",
    "                            selected_args.append(activation)\n",
    "                        else:\n",
    "                            selected_args.append(SEARCH_SPACE[i][choices[i]])             \n",
    "            # add layer. to name \n",
    "            name = 'layers.'+symbolic_obj.name\n",
    "            obj = create_object_from_symbols(name, selected_args, len(selected_args))\n",
    "            args.append(obj)\n",
    "        else:\n",
    "            args.append(old_args[i])\n",
    "    #for now just for the Sequential model\n",
    "    return models.Sequential(args)"
   ]
  },
  {
   "cell_type": "code",
   "execution_count": 10,
   "metadata": {},
   "outputs": [],
   "source": [
    "# samples models aout of the search space using the choices of the search algorithm\n",
    "# max_trails is the number of wanted samples \n",
    "def sample(trainer, search_algorithm, max_trails = 10):\n",
    "    models = []\n",
    "    train = trainer()\n",
    "    for i in range(max_trails):\n",
    "        choices = search_algorithm()\n",
    "        model = materialize(choices)\n",
    "        models.append(model)\n",
    "    return models"
   ]
  },
  {
   "cell_type": "code",
   "execution_count": null,
   "metadata": {},
   "outputs": [],
   "source": []
  }
 ],
 "metadata": {
  "kernelspec": {
   "display_name": "Python 3",
   "language": "python",
   "name": "python3"
  },
  "language_info": {
   "codemirror_mode": {
    "name": "ipython",
    "version": 3
   },
   "file_extension": ".py",
   "mimetype": "text/x-python",
   "name": "python",
   "nbconvert_exporter": "python",
   "pygments_lexer": "ipython3",
   "version": "3.8.5"
  }
 },
 "nbformat": 4,
 "nbformat_minor": 4
}
